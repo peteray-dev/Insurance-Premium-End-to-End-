{
 "cells": [
  {
   "cell_type": "code",
   "execution_count": 1,
   "metadata": {},
   "outputs": [],
   "source": [
    "import os\n"
   ]
  },
  {
   "cell_type": "code",
   "execution_count": 2,
   "metadata": {},
   "outputs": [
    {
     "data": {
      "text/plain": [
       "'c:\\\\Users\\\\user\\\\Desktop\\\\Insurance E2E ML\\\\Insurance-Premium-End-to-End-\\\\research'"
      ]
     },
     "execution_count": 2,
     "metadata": {},
     "output_type": "execute_result"
    }
   ],
   "source": [
    "%pwd"
   ]
  },
  {
   "cell_type": "code",
   "execution_count": 3,
   "metadata": {},
   "outputs": [],
   "source": [
    "os.chdir('../')"
   ]
  },
  {
   "cell_type": "code",
   "execution_count": 4,
   "metadata": {},
   "outputs": [
    {
     "data": {
      "text/plain": [
       "'c:\\\\Users\\\\user\\\\Desktop\\\\Insurance E2E ML\\\\Insurance-Premium-End-to-End-'"
      ]
     },
     "execution_count": 4,
     "metadata": {},
     "output_type": "execute_result"
    }
   ],
   "source": [
    "%pwd"
   ]
  },
  {
   "cell_type": "code",
   "execution_count": 5,
   "metadata": {},
   "outputs": [],
   "source": [
    "#entity\n",
    "\n",
    "from pathlib import Path\n",
    "from dataclasses import dataclass\n",
    "\n",
    "@dataclass(frozen=True)\n",
    "class DataIngestionCOnfig:\n",
    "    root_dir: Path\n",
    "    source_URL: Path\n",
    "    local_data_file: Path\n",
    "    unzip_dir: Path\n",
    "    comp_name: str"
   ]
  },
  {
   "cell_type": "code",
   "execution_count": 6,
   "metadata": {},
   "outputs": [],
   "source": [
    "from src.inproject.constants import *\n",
    "from src.inproject.utils.common import read_yaml, create_directories"
   ]
  },
  {
   "cell_type": "code",
   "execution_count": 7,
   "metadata": {},
   "outputs": [],
   "source": [
    "class ConfigurationManager:\n",
    "    def __init__(self,\n",
    "                 config_pathway = CONFIG_FILE_PATH,\n",
    "                 param_pathway = PARAM_FILE_PATH,\n",
    "                 schema_pathway = SCHEMA_FILE_PATH):\n",
    "        self.config = read_yaml(config_pathway)\n",
    "        self.params = read_yaml(param_pathway)\n",
    "        self.schema = read_yaml(schema_pathway)\n",
    "\n",
    "        create_directories([self.config.artifacts_root])\n",
    "\n",
    "    def get_data_ingestion_config(self)->DataIngestionCOnfig:\n",
    "        config = self.config.data_ingestion\n",
    "\n",
    "        create_directories([config.root_dir])\n",
    "\n",
    "        data_ingestion_config = DataIngestionCOnfig(\n",
    "            root_dir= config.root_dir,\n",
    "            source_URL=config.source_URL,\n",
    "            local_data_file= config.local_data_file,\n",
    "            unzip_dir=config.unzip_dir,\n",
    "            comp_name=config.comp_name\n",
    "        )\n",
    "\n",
    "        return data_ingestion_config"
   ]
  },
  {
   "cell_type": "code",
   "execution_count": 8,
   "metadata": {},
   "outputs": [],
   "source": [
    "# data ingestion component\n",
    "\n",
    "import os\n",
    "import zipfile\n",
    "import urllib.request as request\n",
    "from src.inproject.logging import logger\n",
    "from src.inproject.utils.common import read_yaml, get_size\n",
    "from kaggle.api.kaggle_api_extended import KaggleApi\n",
    "# import kaggle\n"
   ]
  },
  {
   "cell_type": "code",
   "execution_count": 9,
   "metadata": {},
   "outputs": [],
   "source": [
    "\n",
    "\n",
    "class DataIngestion:\n",
    "    def __init__(self, config=DataIngestionCOnfig):\n",
    "        self.config = config\n",
    "\n",
    "   \n",
    "    def download_data_from_kaggle(self):\n",
    "        if not os.path.exists(self.config.local_data_file):\n",
    "            os.makedirs(self.config.root_dir, exist_ok=True)\n",
    "            api = KaggleApi()\n",
    "            api.authenticate()\n",
    "            api.competition_download_files(self.config.comp_name, self.config.root_dir)\n",
    "\n",
    "            logger.info(f'data downloaded succesfully ')\n",
    "\n",
    "        else:\n",
    "            logger.info(f'file already exist of size: {get_size(Path(self.config.local_data_file))}')\n",
    "\n",
    "\n",
    "    def extract_zip_file(self):\n",
    "        \"\"\"\n",
    "        zip_file_path: zip\n",
    "        extract zip file into the directory\n",
    "        function returns None\n",
    "        \"\"\"\n",
    "\n",
    "        unzip_path = self.config.unzip_dir\n",
    "        os.makedirs(unzip_path, exist_ok=True)\n",
    "        with zipfile.ZipFile(self.config.local_data_file, 'r') as zip_ref:\n",
    "            zip_ref.extractall(unzip_path)"
   ]
  },
  {
   "cell_type": "code",
   "execution_count": 10,
   "metadata": {},
   "outputs": [
    {
     "name": "stdout",
     "output_type": "stream",
     "text": [
      "[2025-01-02 02:17:49,854: INFO: common: yaml file: config\\config.yaml loaded successfully]\n",
      "[2025-01-02 02:17:49,856: INFO: common: yaml file: params.yaml loaded successfully]\n",
      "[2025-01-02 02:17:49,859: INFO: common: yaml file: schema.yaml loaded successfully]\n",
      "[2025-01-02 02:17:49,861: INFO: common: created directory at: artifacts]\n",
      "[2025-01-02 02:17:49,862: INFO: common: created directory at: artifacts/data_ingestion]\n",
      "[2025-01-02 02:18:10,091: INFO: 2452134524: data downloaded succesfully ]\n"
     ]
    }
   ],
   "source": [
    "# pipeline\n",
    "\n",
    "try: \n",
    "    config = ConfigurationManager()\n",
    "    data_ingestion_config = config.get_data_ingestion_config()\n",
    "    data_ingestion = DataIngestion(data_ingestion_config)\n",
    "    data_ingestion.download_data_from_kaggle()\n",
    "    data_ingestion.extract_zip_file()\n",
    "\n",
    "\n",
    "except Exception as e:\n",
    "    raise e"
   ]
  },
  {
   "cell_type": "code",
   "execution_count": null,
   "metadata": {},
   "outputs": [],
   "source": []
  },
  {
   "cell_type": "code",
   "execution_count": null,
   "metadata": {},
   "outputs": [],
   "source": []
  }
 ],
 "metadata": {
  "kernelspec": {
   "display_name": "inproj",
   "language": "python",
   "name": "python3"
  },
  "language_info": {
   "codemirror_mode": {
    "name": "ipython",
    "version": 3
   },
   "file_extension": ".py",
   "mimetype": "text/x-python",
   "name": "python",
   "nbconvert_exporter": "python",
   "pygments_lexer": "ipython3",
   "version": "3.8.20"
  }
 },
 "nbformat": 4,
 "nbformat_minor": 2
}
